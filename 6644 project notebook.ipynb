{
 "cells": [
  {
   "cell_type": "code",
   "execution_count": 7,
   "id": "d5808fb0-5519-4004-a728-42a5953f227f",
   "metadata": {},
   "outputs": [],
   "source": [
    "import random\n",
    "import math\n",
    "cycle_count = list()"
   ]
  },
  {
   "cell_type": "code",
   "execution_count": 8,
   "id": "21315991",
   "metadata": {},
   "outputs": [],
   "source": [
    "def game_stats(x):\n",
    "    #cycle_count = list()\n",
    "    a_loss = list()\n",
    "    b_loss = list()\n",
    "    two_loss = list()\n",
    "    three_loss = list()\n",
    "    fourfivesix_loss = list()\n",
    "    def another_game():\n",
    "        player_A = 4   \n",
    "        player_B = 4\n",
    "        pot = 2\n",
    "        turn = 0\n",
    "        cycle = 0 \n",
    "        game = True\n",
    "        while game == True:\n",
    "            turn += 1\n",
    "            roll = random.randint(1,6)\n",
    "            if roll == 2: \n",
    "                if pot == 0:\n",
    "                    game = False\n",
    "                    two_loss.append(1)\n",
    "                    if (turn % 2) == 0:\n",
    "                        b_loss.append(1)\n",
    "                    else:\n",
    "                        a_loss.append(1)\n",
    "                    #print(\"Pot is empty!\")\n",
    "                elif (turn % 2) == 0:\n",
    "                    player_B += pot\n",
    "                    pot = 0\n",
    "                    #print(\"Player B got the pot!\") \n",
    "                else:\n",
    "                    player_A += pot\n",
    "                    pot = 0\n",
    "                    #print(\"Player A got the pot!\")\n",
    "\n",
    "            elif roll == 3:\n",
    "                if pot < 1:\n",
    "                    game = False\n",
    "                    three_loss.append(1)\n",
    "                    if (turn % 2) == 0:\n",
    "                        b_loss.append(1)\n",
    "                    else:\n",
    "                        a_loss.append(1)\n",
    "                    \n",
    "                    #print(\"Pot is empty!\")\n",
    "                elif (turn % 2) == 0:\n",
    "                    player_B += math.floor(pot/2) #add floor function to round down\n",
    "                    pot = math.ceil(pot/2)\n",
    "                    #print(\"Player B got half the pot\")\n",
    "                else:\n",
    "                    player_A += math.floor(pot/2)\n",
    "                    pot = math.ceil(pot/2)\n",
    "                    #print(\"Player A got half the pot\")\n",
    "\n",
    "            elif roll == 4 or roll == 5 or roll == 6:\n",
    "                if (turn % 2) == 0 and player_B >= 1:\n",
    "                    pot += 1\n",
    "                    player_B -= 1\n",
    "                    #print(\"Player B put one in the pot\")\n",
    "                elif (turn %2) == 1 and player_A >= 1:\n",
    "                    pot += 1\n",
    "                    player_A -= 1\n",
    "                    #print(\"Player A put one in the pot\")\n",
    "                elif (turn %2) == 0 and player_B == 0: \n",
    "                    game = False\n",
    "                    fourfivesix_loss.append(1)\n",
    "                    b_loss.append(1)\n",
    "                elif (turn % 2) == 1 and player_A == 0:\n",
    "                    game = False\n",
    "                    fourfivesix_loss.append(1)\n",
    "                    a_loss.append(1)\n",
    "                    \n",
    "        #print(\"Game\", i, \"over after\", turn, \"turns.\") #count statistics of what ends the game\n",
    "        cycle = math.ceil(turn/2) \n",
    "        cycle_count.append(cycle)\n",
    "    i = 1\n",
    "    while i <= x:\n",
    "        another_game()\n",
    "        i += 1\n",
    "    print(\"After\", len(cycle_count), \"games, the average game length was\", sum(cycle_count)/len(cycle_count), \"cycles.\")\n",
    "    #print(cycle_count)\n",
    "    print(round(len(a_loss) / len(cycle_count)*100,1), \"% of games were lost by player A.\")\n",
    "    print(round(len(b_loss) / len(cycle_count)*100,1), \"% of games were lost by player B.\")\n",
    "    print(round(len(two_loss) / len(cycle_count)*100,1), \"% of games were lost on a 2 roll.\")\n",
    "    print(round(len(three_loss) / len(cycle_count)*100,1), \"% of games were lost on a 3 roll.\")\n",
    "    print(round(len(fourfivesix_loss) / len(cycle_count)*100,1), \"% of games were lost on a 4, 5, or 6 roll.\")\n",
    "    \n"
   ]
  },
  {
   "cell_type": "code",
   "execution_count": 9,
   "id": "985827f8",
   "metadata": {},
   "outputs": [
    {
     "name": "stdout",
     "output_type": "stream",
     "text": [
      "After 1000000 games, the average game length was 4.63121 cycles.\n",
      "49.4 % of games were lost by player A.\n",
      "50.6 % of games were lost by player B.\n",
      "24.4 % of games were lost on a 2 roll.\n",
      "24.3 % of games were lost on a 3 roll.\n",
      "51.3 % of games were lost on a 4, 5, or 6 roll.\n"
     ]
    }
   ],
   "source": [
    "game_stats(1000000)"
   ]
  },
  {
   "cell_type": "code",
   "execution_count": 13,
   "id": "89fe4f10",
   "metadata": {},
   "outputs": [
    {
     "data": {
      "text/plain": [
       "<AxesSubplot:ylabel='Frequency'>"
      ]
     },
     "execution_count": 13,
     "metadata": {},
     "output_type": "execute_result"
    },
    {
     "data": {
      "image/png": "[encoded data removed]",
      "text/plain": [
       "<Figure size 432x288 with 1 Axes>"
      ]
     },
     "metadata": {
      "needs_background": "light"
     },
     "output_type": "display_data"
    }
   ],
   "source": [
    "import pandas as pd\n",
    "import matplotlib as plt\n",
    "import numpy as np\n",
    "cycle_count2 = np.array(cycle_count)\n",
    "cycle_count3 = pd.Series(cycle_count)\n",
    "    \n",
    "cycle_count3.plot.hist(grid = True, bins= 20, rwidth = 2, color = '#607c8e')\n",
    "#plt.title('Cycle count frequency')\n",
    "#plt.xlabel('Number of Cycles a Game Lasts')\n",
    "#plt.ylabel('Frequency')\n",
    "#plt.grid(axis = 'y', alpha = 0.75)\n",
    "#print(cycle_count2)"
   ]
  },
  {
   "cell_type": "code",
   "execution_count": 10,
   "id": "cac2c679",
   "metadata": {},
   "outputs": [
    {
     "name": "stdout",
     "output_type": "stream",
     "text": [
      "Average number of cycles: 9.7089\n"
     ]
    }
   ],
   "source": [
    "import random\n",
    "\n",
    "def roll():\n",
    "    return random.randint(1, 6)\n",
    "\n",
    "def play_game():\n",
    "    a_coins = 4\n",
    "    b_coins = 4\n",
    "    pot = 2\n",
    "    cycles = 0\n",
    "    \n",
    "    while True:\n",
    "        # A's turn\n",
    "        if a_coins == 0:\n",
    "            a_roll = roll()\n",
    "            if a_roll == 1 or a_roll == 3:\n",
    "                return cycles\n",
    "            elif a_roll == 2:\n",
    "                a_coins += pot\n",
    "                pot = 0\n",
    "            else:\n",
    "                pot += 1\n",
    "        else:\n",
    "            a_roll = roll()\n",
    "            if a_roll == 1:\n",
    "                pass\n",
    "            elif a_roll == 2:\n",
    "                a_coins += pot\n",
    "                pot = 0\n",
    "            elif a_roll == 3:\n",
    "                pot += a_coins // 2\n",
    "                a_coins -= a_coins // 2\n",
    "            else:\n",
    "                a_coins -= 1\n",
    "                pot += 1\n",
    "        \n",
    "        # B's turn\n",
    "        if b_coins == 0:\n",
    "            b_roll = roll()\n",
    "            if b_roll == 1 or b_roll == 3:\n",
    "                return cycles\n",
    "            elif b_roll == 2:\n",
    "                b_coins += pot\n",
    "                pot = 0\n",
    "            else:\n",
    "                pot += 1\n",
    "        else:\n",
    "            b_roll = roll()\n",
    "            if b_roll == 1:\n",
    "                pass\n",
    "            elif b_roll == 2:\n",
    "                b_coins += pot\n",
    "                pot = 0\n",
    "            elif b_roll == 3:\n",
    "                pot += b_coins // 2\n",
    "                b_coins -= b_coins // 2\n",
    "            else:\n",
    "                b_coins -= 1\n",
    "                pot += 1\n",
    "        \n",
    "        cycles += 1\n",
    "        if a_coins == 0 and b_coins == 0:\n",
    "            return cycles\n",
    "\n",
    "num_trials = 10000\n",
    "total_cycles = 0\n",
    "for i in range(num_trials):\n",
    "    total_cycles += play_game()\n",
    "avg_cycles = total_cycles / num_trials\n",
    "print(\"Average number of cycles:\", avg_cycles)\n"
   ]
  },
  {
   "cell_type": "code",
   "execution_count": 12,
   "id": "b583f1a1",
   "metadata": {},
   "outputs": [
    {
     "name": "stdout",
     "output_type": "stream",
     "text": [
      "Expected number of cycles: -9.321592109897853\n"
     ]
    }
   ],
   "source": [
    "import numpy as np\n",
    "import random\n",
    "\n",
    "def roll():\n",
    "    return random.randint(1, 6)\n",
    "\n",
    "# State space\n",
    "states = [(a, b) for a in range(5) for b in range(5)]\n",
    "pot = 2\n",
    "\n",
    "# Transition matrix\n",
    "P = np.zeros((len(states), len(states)))\n",
    "for i, state in enumerate(states):\n",
    "    a, b = state\n",
    "    if a == 0:\n",
    "        for j, next_state in enumerate(states):\n",
    "            if next_state == (a, b):\n",
    "                P[i, j] = 1\n",
    "            elif next_state == (a, b+1):\n",
    "                P[i, j] = 1/6\n",
    "            else:\n",
    "                P[i, j] = 1/6 if roll() in (4, 5, 6) else 0\n",
    "    elif b == 0:\n",
    "        for j, next_state in enumerate(states):\n",
    "            if next_state == (a, b):\n",
    "                P[i, j] = 1\n",
    "            elif next_state == (a+1, b):\n",
    "                P[i, j] = 1/6\n",
    "            else:\n",
    "                P[i, j] = 1/6 if roll() in (4, 5, 6) else 0\n",
    "    else:\n",
    "        for j, next_state in enumerate(states):\n",
    "            if next_state == (a, b):\n",
    "                P[i, j] = 1\n",
    "            elif next_state == (a+1, b):\n",
    "                P[i, j] = 1/6\n",
    "            elif next_state == (a, b+1):\n",
    "                P[i, j] = 1/6\n",
    "            elif next_state == (a//2, b+a%2+pot):\n",
    "                P[i, j] = 1/6 if a%2 == 1 else 0\n",
    "            elif next_state == (a, b+pot):\n",
    "                P[i, j] = 1/6 if a == 2 else 0\n",
    "            else:\n",
    "                P[i, j] = 1/6 if roll() in (4, 5, 6) else 0\n",
    "\n",
    "# Solve the system of equations to find the expected number of cycles\n",
    "v = np.linalg.solve(np.eye(len(states)) - P, np.ones(len(states)))\n",
    "expected_cycles = np.sum(v)\n",
    "print(\"Expected number of cycles:\", expected_cycles)\n",
    "\n",
    "#error - giving me a negative cycle run for some reason"
   ]
  }
 ],
 "metadata": {
  "kernelspec": {
   "display_name": "Python 3 (ipykernel)",
   "language": "python",
   "name": "python3"
  },
  "language_info": {
   "codemirror_mode": {
    "name": "ipython",
    "version": 3
   },
   "file_extension": ".py",
   "mimetype": "text/x-python",
   "name": "python",
   "nbconvert_exporter": "python",
   "pygments_lexer": "ipython3",
   "version": "3.9.7"
  }
 },
 "nbformat": 4,
 "nbformat_minor": 5
}
