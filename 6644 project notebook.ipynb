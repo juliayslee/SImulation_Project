{
 "cells": [
  {
   "cell_type": "code",
   "execution_count": 22,
   "id": "d5808fb0-5519-4004-a728-42a5953f227f",
   "metadata": {},
   "outputs": [],
   "source": [
    "import random\n",
    "import math\n",
    "cycle_count = list()"
   ]
  },
  {
   "cell_type": "code",
   "execution_count": 23,
   "id": "21315991",
   "metadata": {},
   "outputs": [],
   "source": [
    "def game_stats(x):\n",
    "    #cycle_count = list()\n",
    "    a_loss = list()\n",
    "    b_loss = list()\n",
    "    two_loss = list()\n",
    "    three_loss = list()\n",
    "    fourfivesix_loss = list()\n",
    "    def another_game():\n",
    "        player_A = 2   \n",
    "        player_B = 2\n",
    "        pot = 4\n",
    "        turn = 0\n",
    "        cycle = 0 \n",
    "        game = True\n",
    "        while game == True:\n",
    "            turn += 1\n",
    "            roll = random.randint(1,6)\n",
    "            if roll == 2: \n",
    "                if pot == 0:\n",
    "                    game = False\n",
    "                    two_loss.append(1)\n",
    "                    if (turn % 2) == 0:\n",
    "                        b_loss.append(1)\n",
    "                    else:\n",
    "                        a_loss.append(1)\n",
    "                    #print(\"Pot is empty!\")\n",
    "                elif (turn % 2) == 0:\n",
    "                    player_B += pot\n",
    "                    pot = 0\n",
    "                    #print(\"Player B got the pot!\") \n",
    "                else:\n",
    "                    player_A += pot\n",
    "                    pot = 0\n",
    "                    #print(\"Player A got the pot!\")\n",
    "\n",
    "            elif roll == 3:\n",
    "                if pot < 1:\n",
    "                    game = False\n",
    "                    three_loss.append(1)\n",
    "                    if (turn % 2) == 0:\n",
    "                        b_loss.append(1)\n",
    "                    else:\n",
    "                        a_loss.append(1)\n",
    "                    \n",
    "                    #print(\"Pot is empty!\")\n",
    "                elif (turn % 2) == 0:\n",
    "                    player_B += math.floor(pot/2) #add floor function to round down\n",
    "                    pot = math.ceil(pot/2)\n",
    "                    #print(\"Player B got half the pot\")\n",
    "                else:\n",
    "                    player_A += math.floor(pot/2)\n",
    "                    pot = math.ceil(pot/2)\n",
    "                    #print(\"Player A got half the pot\")\n",
    "\n",
    "            elif roll == 4 or roll == 5 or roll == 6:\n",
    "                if (turn % 2) == 0 and player_B >= 1:\n",
    "                    pot += 1\n",
    "                    player_B -= 1\n",
    "                    #print(\"Player B put one in the pot\")\n",
    "                elif (turn %2) == 1 and player_A >= 1:\n",
    "                    pot += 1\n",
    "                    player_A -= 1\n",
    "                    #print(\"Player A put one in the pot\")\n",
    "                elif (turn %2) == 0 and player_B == 0: \n",
    "                    game = False\n",
    "                    fourfivesix_loss.append(1)\n",
    "                    b_loss.append(1)\n",
    "                elif (turn % 2) == 1 and player_A == 0:\n",
    "                    game = False\n",
    "                    fourfivesix_loss.append(1)\n",
    "                    a_loss.append(1)\n",
    "                    \n",
    "        #print(\"Game\", i, \"over after\", turn, \"turns.\") #count statistics of what ends the game\n",
    "        cycle = math.ceil(turn/2) \n",
    "        cycle_count.append(cycle)\n",
    "    i = 1\n",
    "    while i <= x:\n",
    "        another_game()\n",
    "        i += 1\n",
    "    print(\"After\", len(cycle_count), \"games, the average game length was\", sum(cycle_count)/len(cycle_count), \"cycles.\")\n",
    "    #print(cycle_count)\n",
    "    print(round(len(a_loss) / len(cycle_count)*100,1), \"% of games were lost by player A.\")\n",
    "    print(round(len(b_loss) / len(cycle_count)*100,1), \"% of games were lost by player B.\")\n",
    "    print(round(len(two_loss) / len(cycle_count)*100,1), \"% of games were lost on a 2 roll.\")\n",
    "    print(round(len(three_loss) / len(cycle_count)*100,1), \"% of games were lost on a 3 roll.\")\n",
    "    print(round(len(fourfivesix_loss) / len(cycle_count)*100,1), \"% of games were lost on a 4, 5, or 6 roll.\")\n",
    "    \n"
   ]
  },
  {
   "cell_type": "code",
   "execution_count": 24,
   "id": "985827f8",
   "metadata": {},
   "outputs": [
    {
     "name": "stdout",
     "output_type": "stream",
     "text": [
      "After 1000 games, the average game length was 4.716 cycles.\n",
      "50.1 % of games were lost by player A.\n",
      "49.9 % of games were lost by player B.\n",
      "25.5 % of games were lost on a 2 roll.\n",
      "26.3 % of games were lost on a 3 roll.\n",
      "48.2 % of games were lost on a 4, 5, or 6 roll.\n"
     ]
    }
   ],
   "source": [
    "game_stats(1000)"
   ]
  },
  {
   "cell_type": "code",
   "execution_count": 26,
   "id": "89fe4f10",
   "metadata": {},
   "outputs": [
    {
     "data": {
      "text/plain": [
       "<AxesSubplot:ylabel='Frequency'>"
      ]
     },
     "execution_count": 26,
     "metadata": {},
     "output_type": "execute_result"
    },
    {
     "data": {
      "image/png": "[encoded data removed]",
      "text/plain": [
       "<Figure size 432x288 with 1 Axes>"
      ]
     },
     "metadata": {
      "needs_background": "light"
     },
     "output_type": "display_data"
    }
   ],
   "source": [
    "import pandas as pd\n",
    "import matplotlib as plt\n",
    "import numpy as np\n",
    "cycle_count2 = np.array(cycle_count)\n",
    "cycle_count3 = pd.Series(cycle_count)\n",
    "    \n",
    "cycle_count3.plot.hist(grid = True, bins= 20, rwidth = 0.9, color = '#607c8e')\n",
    "#plt.title('Cycle count frequency')\n",
    "#plt.xlabel('Number of Cycles a Game Lasts')\n",
    "#plt.ylabel('Frequency')\n",
    "#plt.grid(axis = 'y', alpha = 0.75)\n",
    "#print(cycle_count2)"
   ]
  },
  {
   "cell_type": "code",
   "execution_count": null,
   "id": "7837455d",
   "metadata": {},
   "outputs": [],
   "source": []
  }
 ],
 "metadata": {
  "kernelspec": {
   "display_name": "Python 3",
   "language": "python",
   "name": "python3"
  },
  "language_info": {
   "codemirror_mode": {
    "name": "ipython",
    "version": 3
   },
   "file_extension": ".py",
   "mimetype": "text/x-python",
   "name": "python",
   "nbconvert_exporter": "python",
   "pygments_lexer": "ipython3",
   "version": "3.8.8"
  }
 },
 "nbformat": 4,
 "nbformat_minor": 5
}
